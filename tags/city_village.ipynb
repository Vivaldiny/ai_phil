{
 "cells": [
  {
   "cell_type": "code",
   "execution_count": null,
   "metadata": {},
   "outputs": [],
   "source": [
    "import pandas as pd\n",
    "import numpy as np"
   ]
  },
  {
   "cell_type": "code",
   "execution_count": null,
   "metadata": {
    "scrolled": true
   },
   "outputs": [],
   "source": [
    "import os\n",
    "\n",
    "os.chdir(\"data\")"
   ]
  },
  {
   "cell_type": "markdown",
   "metadata": {},
   "source": [
    "# Где есть город и деревня?"
   ]
  },
  {
   "cell_type": "code",
   "execution_count": null,
   "metadata": {},
   "outputs": [],
   "source": [
    "texts = pd.read_csv(\"data/texts.csv\", sep=\";\", index_col=False).iloc[:,1:]\n",
    "tags_city = pd.read_csv(\"data/texts_city.csv\", sep=\";\", index_col=False, encoding=\"ansi\")\n",
    "tags_village = pd.read_csv(\"data/texts_village.csv\", sep=\";\", index_col=False, encoding=\"ansi\")"
   ]
  },
  {
   "cell_type": "code",
   "execution_count": null,
   "metadata": {
    "scrolled": true
   },
   "outputs": [],
   "source": [
    "city = []\n",
    "for i in range(0, len(tags_city)):\n",
    "    city.append(tags_city.iloc[i][\"tag\"])\n",
    "city"
   ]
  },
  {
   "cell_type": "code",
   "execution_count": null,
   "metadata": {},
   "outputs": [],
   "source": [
    "village = []\n",
    "for i in range(0, len(tags_village)):\n",
    "    village.append(tags_village.iloc[i][\"tag\"])\n",
    "village"
   ]
  },
  {
   "cell_type": "code",
   "execution_count": null,
   "metadata": {},
   "outputs": [],
   "source": [
    "has_village = []\n",
    "has_city = []\n",
    "for i in range(0, len(texts)):\n",
    "    if len(set(str(texts.iloc[i][\"loc_unique\"]).split(\", \")).intersection(village)) > 0:\n",
    "        has_village.append(True)\n",
    "    else:\n",
    "        has_village.append(False)\n",
    "    \n",
    "    if len(set(str(texts.iloc[i][\"loc_unique\"]).split(\", \")).intersection(city)) > 0:\n",
    "        has_city.append(True)\n",
    "    else:\n",
    "        has_city.append(False)"
   ]
  },
  {
   "cell_type": "code",
   "execution_count": null,
   "metadata": {},
   "outputs": [],
   "source": [
    "texts[\"city\"] = has_city\n",
    "texts[\"village\"] = has_village"
   ]
  },
  {
   "cell_type": "code",
   "execution_count": null,
   "metadata": {},
   "outputs": [],
   "source": [
    "texts.to_csv(\"data/text_ct-vg.csv\", encoding=\"utf-8-sig\", sep=\";\", index=0)"
   ]
  },
  {
   "cell_type": "markdown",
   "metadata": {},
   "source": [
    "# Создание отдельных таблиц"
   ]
  },
  {
   "cell_type": "code",
   "execution_count": null,
   "metadata": {},
   "outputs": [],
   "source": [
    "texts = pd.read_csv(\"text_ct-vg.csv\", encoding=\"utf-8-sig\", sep=\";\")\n",
    "texts"
   ]
  },
  {
   "cell_type": "code",
   "execution_count": null,
   "metadata": {
    "scrolled": true
   },
   "outputs": [],
   "source": [
    "df_city = texts[texts[\"city\"] == True]\n",
    "city = []\n",
    "for i in range(0, len(tags_city)):\n",
    "    city.append(tags_city.iloc[i][\"tag\"])\n",
    "city"
   ]
  },
  {
   "cell_type": "code",
   "execution_count": null,
   "metadata": {
    "scrolled": true
   },
   "outputs": [],
   "source": [
    "relevant_cities = []\n",
    "for i in range(0, len(df_city)):\n",
    "    relevant_cities.append(\", \".join(set(str(df_city.iloc[i][\"loc_unique\"]).split(\", \")).intersection(city)))\n",
    "relevant_cities"
   ]
  },
  {
   "cell_type": "code",
   "execution_count": null,
   "metadata": {},
   "outputs": [],
   "source": [
    "df_city[\"loc_city\"] = relevant_cities"
   ]
  },
  {
   "cell_type": "code",
   "execution_count": null,
   "metadata": {},
   "outputs": [],
   "source": [
    "df_village = texts[texts[\"village\"] == True]\n",
    "village = []\n",
    "for i in range(0, len(tags_village)):\n",
    "    village.append(tags_village.iloc[i][\"tag\"])\n",
    "village"
   ]
  },
  {
   "cell_type": "code",
   "execution_count": null,
   "metadata": {},
   "outputs": [],
   "source": [
    "relevant_vil = []\n",
    "for i in range(0, len(df_village)):\n",
    "    relevant_vil.append(\", \".join(set(str(df_village.iloc[i][\"loc_unique\"]).split(\", \")).intersection(village)))\n",
    "relevant_vil"
   ]
  },
  {
   "cell_type": "code",
   "execution_count": null,
   "metadata": {},
   "outputs": [],
   "source": [
    "df_village[\"loc_village\"] = relevant_vil"
   ]
  },
  {
   "cell_type": "code",
   "execution_count": null,
   "metadata": {},
   "outputs": [],
   "source": [
    "df_city.to_csv(\"city.csv\", encoding=\"utf-8-sig\", sep=\";\", index=0)\n",
    "df_village.to_csv(\"village.csv\", encoding=\"utf-8-sig\", sep=\";\", index=0)"
   ]
  },
  {
   "cell_type": "markdown",
   "metadata": {},
   "source": [
    "# Очистка текстов"
   ]
  },
  {
   "cell_type": "markdown",
   "metadata": {},
   "source": [
    "## Город"
   ]
  },
  {
   "cell_type": "code",
   "execution_count": 3,
   "metadata": {},
   "outputs": [
    {
     "data": {
      "text/html": [
       "<div>\n",
       "<style scoped>\n",
       "    .dataframe tbody tr th:only-of-type {\n",
       "        vertical-align: middle;\n",
       "    }\n",
       "\n",
       "    .dataframe tbody tr th {\n",
       "        vertical-align: top;\n",
       "    }\n",
       "\n",
       "    .dataframe thead th {\n",
       "        text-align: right;\n",
       "    }\n",
       "</style>\n",
       "<table border=\"1\" class=\"dataframe\">\n",
       "  <thead>\n",
       "    <tr style=\"text-align: right;\">\n",
       "      <th></th>\n",
       "      <th>text_id</th>\n",
       "      <th>annotator</th>\n",
       "      <th>nested</th>\n",
       "      <th>loc_city</th>\n",
       "    </tr>\n",
       "  </thead>\n",
       "  <tbody>\n",
       "    <tr>\n",
       "      <th>0</th>\n",
       "      <td>S001</td>\n",
       "      <td>Аксенова</td>\n",
       "      <td>0</td>\n",
       "      <td>Поццуоли</td>\n",
       "    </tr>\n",
       "    <tr>\n",
       "      <th>1</th>\n",
       "      <td>S002</td>\n",
       "      <td>Сейнова</td>\n",
       "      <td>0</td>\n",
       "      <td>город</td>\n",
       "    </tr>\n",
       "    <tr>\n",
       "      <th>2</th>\n",
       "      <td>S005</td>\n",
       "      <td>Сейнова</td>\n",
       "      <td>1</td>\n",
       "      <td>Петербург</td>\n",
       "    </tr>\n",
       "    <tr>\n",
       "      <th>3</th>\n",
       "      <td>S012</td>\n",
       "      <td>Аксенова</td>\n",
       "      <td>1</td>\n",
       "      <td>город</td>\n",
       "    </tr>\n",
       "    <tr>\n",
       "      <th>4</th>\n",
       "      <td>S022</td>\n",
       "      <td>Сейнова</td>\n",
       "      <td>0</td>\n",
       "      <td>Петербург</td>\n",
       "    </tr>\n",
       "    <tr>\n",
       "      <th>...</th>\n",
       "      <td>...</td>\n",
       "      <td>...</td>\n",
       "      <td>...</td>\n",
       "      <td>...</td>\n",
       "    </tr>\n",
       "    <tr>\n",
       "      <th>80</th>\n",
       "      <td>S579</td>\n",
       "      <td>Салихова</td>\n",
       "      <td>0</td>\n",
       "      <td>город</td>\n",
       "    </tr>\n",
       "    <tr>\n",
       "      <th>81</th>\n",
       "      <td>S580</td>\n",
       "      <td>Салихова</td>\n",
       "      <td>0</td>\n",
       "      <td>палаццо</td>\n",
       "    </tr>\n",
       "    <tr>\n",
       "      <th>82</th>\n",
       "      <td>S586</td>\n",
       "      <td>Салихова</td>\n",
       "      <td>1</td>\n",
       "      <td>город</td>\n",
       "    </tr>\n",
       "    <tr>\n",
       "      <th>83</th>\n",
       "      <td>S589</td>\n",
       "      <td>Салихова</td>\n",
       "      <td>0</td>\n",
       "      <td>южный городок</td>\n",
       "    </tr>\n",
       "    <tr>\n",
       "      <th>84</th>\n",
       "      <td>S591</td>\n",
       "      <td>Салихова</td>\n",
       "      <td>0</td>\n",
       "      <td>город N-ск</td>\n",
       "    </tr>\n",
       "  </tbody>\n",
       "</table>\n",
       "<p>85 rows × 4 columns</p>\n",
       "</div>"
      ],
      "text/plain": [
       "   text_id annotator  nested       loc_city\n",
       "0     S001  Аксенова       0       Поццуоли\n",
       "1     S002   Сейнова       0          город\n",
       "2     S005   Сейнова       1      Петербург\n",
       "3     S012  Аксенова       1          город\n",
       "4     S022   Сейнова       0      Петербург\n",
       "..     ...       ...     ...            ...\n",
       "80    S579  Салихова       0          город\n",
       "81    S580  Салихова       0        палаццо\n",
       "82    S586  Салихова       1          город\n",
       "83    S589  Салихова       0  южный городок\n",
       "84    S591  Салихова       0     город N-ск\n",
       "\n",
       "[85 rows x 4 columns]"
      ]
     },
     "execution_count": 3,
     "metadata": {},
     "output_type": "execute_result"
    }
   ],
   "source": [
    "city = pd.read_csv(\"city.csv\", sep=\";\", encoding=\"ansi\").loc[:, [\"text_id\", \"annotator\", \"nested\", \"loc_city\"]]\n",
    "city"
   ]
  },
  {
   "cell_type": "code",
   "execution_count": 4,
   "metadata": {},
   "outputs": [
    {
     "data": {
      "text/plain": [
       "62"
      ]
     },
     "execution_count": 4,
     "metadata": {},
     "output_type": "execute_result"
    }
   ],
   "source": [
    "len(city) #85\n",
    "len(city[city[\"nested\"] == 0]) #62"
   ]
  },
  {
   "cell_type": "code",
   "execution_count": 5,
   "metadata": {
    "scrolled": true
   },
   "outputs": [
    {
     "data": {
      "text/html": [
       "<div>\n",
       "<style scoped>\n",
       "    .dataframe tbody tr th:only-of-type {\n",
       "        vertical-align: middle;\n",
       "    }\n",
       "\n",
       "    .dataframe tbody tr th {\n",
       "        vertical-align: top;\n",
       "    }\n",
       "\n",
       "    .dataframe thead th {\n",
       "        text-align: right;\n",
       "    }\n",
       "</style>\n",
       "<table border=\"1\" class=\"dataframe\">\n",
       "  <thead>\n",
       "    <tr style=\"text-align: right;\">\n",
       "      <th></th>\n",
       "      <th>index</th>\n",
       "      <th>text_id</th>\n",
       "      <th>annotator</th>\n",
       "      <th>loc_city</th>\n",
       "    </tr>\n",
       "  </thead>\n",
       "  <tbody>\n",
       "    <tr>\n",
       "      <th>0</th>\n",
       "      <td>0</td>\n",
       "      <td>S001</td>\n",
       "      <td>Аксенова</td>\n",
       "      <td>Поццуоли</td>\n",
       "    </tr>\n",
       "    <tr>\n",
       "      <th>1</th>\n",
       "      <td>1</td>\n",
       "      <td>S002</td>\n",
       "      <td>Сейнова</td>\n",
       "      <td>город</td>\n",
       "    </tr>\n",
       "    <tr>\n",
       "      <th>2</th>\n",
       "      <td>4</td>\n",
       "      <td>S022</td>\n",
       "      <td>Сейнова</td>\n",
       "      <td>Петербург</td>\n",
       "    </tr>\n",
       "    <tr>\n",
       "      <th>3</th>\n",
       "      <td>6</td>\n",
       "      <td>S064</td>\n",
       "      <td>Колпащикова</td>\n",
       "      <td>Энск</td>\n",
       "    </tr>\n",
       "    <tr>\n",
       "      <th>4</th>\n",
       "      <td>7</td>\n",
       "      <td>S067</td>\n",
       "      <td>Колпащикова</td>\n",
       "      <td>Париж</td>\n",
       "    </tr>\n",
       "    <tr>\n",
       "      <th>...</th>\n",
       "      <td>...</td>\n",
       "      <td>...</td>\n",
       "      <td>...</td>\n",
       "      <td>...</td>\n",
       "    </tr>\n",
       "    <tr>\n",
       "      <th>57</th>\n",
       "      <td>79</td>\n",
       "      <td>S572</td>\n",
       "      <td>Салихова</td>\n",
       "      <td>город, город Лебедянск</td>\n",
       "    </tr>\n",
       "    <tr>\n",
       "      <th>58</th>\n",
       "      <td>80</td>\n",
       "      <td>S579</td>\n",
       "      <td>Салихова</td>\n",
       "      <td>город</td>\n",
       "    </tr>\n",
       "    <tr>\n",
       "      <th>59</th>\n",
       "      <td>81</td>\n",
       "      <td>S580</td>\n",
       "      <td>Салихова</td>\n",
       "      <td>палаццо</td>\n",
       "    </tr>\n",
       "    <tr>\n",
       "      <th>60</th>\n",
       "      <td>83</td>\n",
       "      <td>S589</td>\n",
       "      <td>Салихова</td>\n",
       "      <td>южный городок</td>\n",
       "    </tr>\n",
       "    <tr>\n",
       "      <th>61</th>\n",
       "      <td>84</td>\n",
       "      <td>S591</td>\n",
       "      <td>Салихова</td>\n",
       "      <td>город N-ск</td>\n",
       "    </tr>\n",
       "  </tbody>\n",
       "</table>\n",
       "<p>62 rows × 4 columns</p>\n",
       "</div>"
      ],
      "text/plain": [
       "    index text_id    annotator                loc_city\n",
       "0       0    S001     Аксенова                Поццуоли\n",
       "1       1    S002      Сейнова                   город\n",
       "2       4    S022      Сейнова               Петербург\n",
       "3       6    S064  Колпащикова                    Энск\n",
       "4       7    S067  Колпащикова                   Париж\n",
       "..    ...     ...          ...                     ...\n",
       "57     79    S572     Салихова  город, город Лебедянск\n",
       "58     80    S579     Салихова                   город\n",
       "59     81    S580     Салихова                 палаццо\n",
       "60     83    S589     Салихова           южный городок\n",
       "61     84    S591     Салихова              город N-ск\n",
       "\n",
       "[62 rows x 4 columns]"
      ]
     },
     "execution_count": 5,
     "metadata": {},
     "output_type": "execute_result"
    }
   ],
   "source": [
    "city = city[city[\"nested\"] == 0].loc[:, [\"text_id\", \"annotator\", \"loc_city\"]].reset_index()\n",
    "city"
   ]
  },
  {
   "cell_type": "code",
   "execution_count": 15,
   "metadata": {},
   "outputs": [],
   "source": [
    "import re\n",
    "for i in range(0, len(city)):\n",
    "    story = city.iloc[i]\n",
    "    files = os.listdir(story[\"annotator\"])\n",
    "    for file in files:\n",
    "        if story[\"text_id\"] in file:\n",
    "            with open(f\"{story['annotator']}/{file}\", \"r\", encoding=\"utf-8-sig\") as file:\n",
    "                text = file.read()\n",
    "            \n",
    "            results = []\n",
    "            txt = open(f\"city/{story['text_id']}.txt\", \"a\", encoding=\"utf-8-sig\")\n",
    "            for loc in story[\"loc_city\"].split(\", \"):\n",
    "                if story[\"annotator\"] == \"Соловьева\":\n",
    "                    results = re.findall(fr\"<loc={loc}>(.*?)<\\/loc={loc}>\", text, flags=re.DOTALL)\n",
    "                else:\n",
    "                    results = re.findall(fr\"<loc={loc}>(.*?)<\\/loc>\", text, flags=re.DOTALL)\n",
    "                for result in results:\n",
    "                    txt.write(result)\n",
    "                    #re.sub(\"<((?:.|\\n)*)>\", \"\", result)\n",
    "            txt.close()"
   ]
  },
  {
   "cell_type": "markdown",
   "metadata": {},
   "source": [
    "## Деревня"
   ]
  },
  {
   "cell_type": "code",
   "execution_count": 16,
   "metadata": {},
   "outputs": [
    {
     "data": {
      "text/html": [
       "<div>\n",
       "<style scoped>\n",
       "    .dataframe tbody tr th:only-of-type {\n",
       "        vertical-align: middle;\n",
       "    }\n",
       "\n",
       "    .dataframe tbody tr th {\n",
       "        vertical-align: top;\n",
       "    }\n",
       "\n",
       "    .dataframe thead th {\n",
       "        text-align: right;\n",
       "    }\n",
       "</style>\n",
       "<table border=\"1\" class=\"dataframe\">\n",
       "  <thead>\n",
       "    <tr style=\"text-align: right;\">\n",
       "      <th></th>\n",
       "      <th>text_id</th>\n",
       "      <th>annotator</th>\n",
       "      <th>nested</th>\n",
       "      <th>loc_village</th>\n",
       "    </tr>\n",
       "  </thead>\n",
       "  <tbody>\n",
       "    <tr>\n",
       "      <th>0</th>\n",
       "      <td>S002</td>\n",
       "      <td>Сейнова</td>\n",
       "      <td>0</td>\n",
       "      <td>ферма</td>\n",
       "    </tr>\n",
       "    <tr>\n",
       "      <th>1</th>\n",
       "      <td>S019</td>\n",
       "      <td>Сейнова</td>\n",
       "      <td>1</td>\n",
       "      <td>село, село2</td>\n",
       "    </tr>\n",
       "    <tr>\n",
       "      <th>2</th>\n",
       "      <td>S063</td>\n",
       "      <td>Колпащикова</td>\n",
       "      <td>1</td>\n",
       "      <td>село</td>\n",
       "    </tr>\n",
       "    <tr>\n",
       "      <th>3</th>\n",
       "      <td>S069</td>\n",
       "      <td>Колпащикова</td>\n",
       "      <td>0</td>\n",
       "      <td>село</td>\n",
       "    </tr>\n",
       "    <tr>\n",
       "      <th>4</th>\n",
       "      <td>S072</td>\n",
       "      <td>Колпащикова</td>\n",
       "      <td>0</td>\n",
       "      <td>Чуригино</td>\n",
       "    </tr>\n",
       "    <tr>\n",
       "      <th>...</th>\n",
       "      <td>...</td>\n",
       "      <td>...</td>\n",
       "      <td>...</td>\n",
       "      <td>...</td>\n",
       "    </tr>\n",
       "    <tr>\n",
       "      <th>103</th>\n",
       "      <td>S591</td>\n",
       "      <td>Салихова</td>\n",
       "      <td>0</td>\n",
       "      <td>деревни</td>\n",
       "    </tr>\n",
       "    <tr>\n",
       "      <th>104</th>\n",
       "      <td>S593</td>\n",
       "      <td>Салихова</td>\n",
       "      <td>1</td>\n",
       "      <td>Петровка, село</td>\n",
       "    </tr>\n",
       "    <tr>\n",
       "      <th>105</th>\n",
       "      <td>S595</td>\n",
       "      <td>Салихова</td>\n",
       "      <td>1</td>\n",
       "      <td>деревня</td>\n",
       "    </tr>\n",
       "    <tr>\n",
       "      <th>106</th>\n",
       "      <td>S598</td>\n",
       "      <td>Салихова</td>\n",
       "      <td>1</td>\n",
       "      <td>сельцо \"Ивки\"</td>\n",
       "    </tr>\n",
       "    <tr>\n",
       "      <th>107</th>\n",
       "      <td>S601</td>\n",
       "      <td>Салихова</td>\n",
       "      <td>0</td>\n",
       "      <td>деревня</td>\n",
       "    </tr>\n",
       "  </tbody>\n",
       "</table>\n",
       "<p>108 rows × 4 columns</p>\n",
       "</div>"
      ],
      "text/plain": [
       "    text_id    annotator  nested     loc_village\n",
       "0      S002      Сейнова       0           ферма\n",
       "1      S019      Сейнова       1     село, село2\n",
       "2      S063  Колпащикова       1            село\n",
       "3      S069  Колпащикова       0            село\n",
       "4      S072  Колпащикова       0        Чуригино\n",
       "..      ...          ...     ...             ...\n",
       "103    S591     Салихова       0         деревни\n",
       "104    S593     Салихова       1  Петровка, село\n",
       "105    S595     Салихова       1         деревня\n",
       "106    S598     Салихова       1   сельцо \"Ивки\"\n",
       "107    S601     Салихова       0         деревня\n",
       "\n",
       "[108 rows x 4 columns]"
      ]
     },
     "execution_count": 16,
     "metadata": {},
     "output_type": "execute_result"
    }
   ],
   "source": [
    "village = pd.read_csv(\"village.csv\", sep=\";\", encoding=\"ansi\").loc[:, [\"text_id\", \"annotator\", \"nested\", \"loc_village\"]]\n",
    "village"
   ]
  },
  {
   "cell_type": "code",
   "execution_count": 18,
   "metadata": {},
   "outputs": [
    {
     "name": "stdout",
     "output_type": "stream",
     "text": [
      "108\n",
      "79\n"
     ]
    }
   ],
   "source": [
    "print(len(village)) #85\n",
    "print(len(village[village[\"nested\"] == 0])) #62"
   ]
  },
  {
   "cell_type": "code",
   "execution_count": 19,
   "metadata": {
    "scrolled": true
   },
   "outputs": [
    {
     "data": {
      "text/html": [
       "<div>\n",
       "<style scoped>\n",
       "    .dataframe tbody tr th:only-of-type {\n",
       "        vertical-align: middle;\n",
       "    }\n",
       "\n",
       "    .dataframe tbody tr th {\n",
       "        vertical-align: top;\n",
       "    }\n",
       "\n",
       "    .dataframe thead th {\n",
       "        text-align: right;\n",
       "    }\n",
       "</style>\n",
       "<table border=\"1\" class=\"dataframe\">\n",
       "  <thead>\n",
       "    <tr style=\"text-align: right;\">\n",
       "      <th></th>\n",
       "      <th>index</th>\n",
       "      <th>text_id</th>\n",
       "      <th>annotator</th>\n",
       "      <th>loc_village</th>\n",
       "    </tr>\n",
       "  </thead>\n",
       "  <tbody>\n",
       "    <tr>\n",
       "      <th>0</th>\n",
       "      <td>0</td>\n",
       "      <td>S002</td>\n",
       "      <td>Сейнова</td>\n",
       "      <td>ферма</td>\n",
       "    </tr>\n",
       "    <tr>\n",
       "      <th>1</th>\n",
       "      <td>3</td>\n",
       "      <td>S069</td>\n",
       "      <td>Колпащикова</td>\n",
       "      <td>село</td>\n",
       "    </tr>\n",
       "    <tr>\n",
       "      <th>2</th>\n",
       "      <td>4</td>\n",
       "      <td>S072</td>\n",
       "      <td>Колпащикова</td>\n",
       "      <td>Чуригино</td>\n",
       "    </tr>\n",
       "    <tr>\n",
       "      <th>3</th>\n",
       "      <td>5</td>\n",
       "      <td>S074</td>\n",
       "      <td>Колпащикова</td>\n",
       "      <td>Тиволи</td>\n",
       "    </tr>\n",
       "    <tr>\n",
       "      <th>4</th>\n",
       "      <td>6</td>\n",
       "      <td>S082</td>\n",
       "      <td>Колпащикова</td>\n",
       "      <td>Опалиха</td>\n",
       "    </tr>\n",
       "    <tr>\n",
       "      <th>...</th>\n",
       "      <td>...</td>\n",
       "      <td>...</td>\n",
       "      <td>...</td>\n",
       "      <td>...</td>\n",
       "    </tr>\n",
       "    <tr>\n",
       "      <th>74</th>\n",
       "      <td>100</td>\n",
       "      <td>S582</td>\n",
       "      <td>Салихова</td>\n",
       "      <td>дача</td>\n",
       "    </tr>\n",
       "    <tr>\n",
       "      <th>75</th>\n",
       "      <td>101</td>\n",
       "      <td>S588</td>\n",
       "      <td>Салихова</td>\n",
       "      <td>деревенская местность, Сосновка</td>\n",
       "    </tr>\n",
       "    <tr>\n",
       "      <th>76</th>\n",
       "      <td>102</td>\n",
       "      <td>S590</td>\n",
       "      <td>Салихова</td>\n",
       "      <td>село Загублино, селение Загублино</td>\n",
       "    </tr>\n",
       "    <tr>\n",
       "      <th>77</th>\n",
       "      <td>103</td>\n",
       "      <td>S591</td>\n",
       "      <td>Салихова</td>\n",
       "      <td>деревни</td>\n",
       "    </tr>\n",
       "    <tr>\n",
       "      <th>78</th>\n",
       "      <td>107</td>\n",
       "      <td>S601</td>\n",
       "      <td>Салихова</td>\n",
       "      <td>деревня</td>\n",
       "    </tr>\n",
       "  </tbody>\n",
       "</table>\n",
       "<p>79 rows × 4 columns</p>\n",
       "</div>"
      ],
      "text/plain": [
       "    index text_id    annotator                        loc_village\n",
       "0       0    S002      Сейнова                              ферма\n",
       "1       3    S069  Колпащикова                               село\n",
       "2       4    S072  Колпащикова                           Чуригино\n",
       "3       5    S074  Колпащикова                             Тиволи\n",
       "4       6    S082  Колпащикова                            Опалиха\n",
       "..    ...     ...          ...                                ...\n",
       "74    100    S582     Салихова                               дача\n",
       "75    101    S588     Салихова    деревенская местность, Сосновка\n",
       "76    102    S590     Салихова  село Загублино, селение Загублино\n",
       "77    103    S591     Салихова                            деревни\n",
       "78    107    S601     Салихова                            деревня\n",
       "\n",
       "[79 rows x 4 columns]"
      ]
     },
     "execution_count": 19,
     "metadata": {},
     "output_type": "execute_result"
    }
   ],
   "source": [
    "village = village[village[\"nested\"] == 0].loc[:, [\"text_id\", \"annotator\", \"loc_village\"]].reset_index()\n",
    "village"
   ]
  },
  {
   "cell_type": "code",
   "execution_count": 21,
   "metadata": {},
   "outputs": [],
   "source": [
    "import re\n",
    "for i in range(0, len(village)):\n",
    "    story = village.iloc[i]\n",
    "    files = os.listdir(story[\"annotator\"])\n",
    "    for file in files:\n",
    "        if story[\"text_id\"] in file:\n",
    "            with open(f\"{story['annotator']}/{file}\", \"r\", encoding=\"utf-8-sig\") as file:\n",
    "                text = file.read()\n",
    "            \n",
    "            results = []\n",
    "            txt = open(f\"village/{story['text_id']}.txt\", \"a\", encoding=\"utf-8-sig\")\n",
    "            for loc in story[\"loc_village\"].split(\", \"):\n",
    "                if story[\"annotator\"] == \"Соловьева\":\n",
    "                    results = re.findall(fr\"<loc={loc}>(.*?)<\\/loc={loc}>\", text, flags=re.DOTALL)\n",
    "                else:\n",
    "                    results = re.findall(fr\"<loc={loc}>(.*?)<\\/loc>\", text, flags=re.DOTALL)\n",
    "                for result in results:\n",
    "                    txt.write(result)\n",
    "                    #re.sub(\"<((?:.|\\n)*)>\", \"\", result)\n",
    "            txt.close()"
   ]
  }
 ],
 "metadata": {
  "kernelspec": {
   "display_name": "Python 3",
   "language": "python",
   "name": "python3"
  },
  "language_info": {
   "codemirror_mode": {
    "name": "ipython",
    "version": 3
   },
   "file_extension": ".py",
   "mimetype": "text/x-python",
   "name": "python",
   "nbconvert_exporter": "python",
   "pygments_lexer": "ipython3",
   "version": "3.8.3"
  }
 },
 "nbformat": 4,
 "nbformat_minor": 4
}
